{
  "nbformat": 4,
  "nbformat_minor": 0,
  "metadata": {
    "colab": {
      "provenance": []
    },
    "kernelspec": {
      "name": "python3",
      "display_name": "Python 3"
    },
    "language_info": {
      "name": "python"
    }
  },
  "cells": [
    {
      "cell_type": "markdown",
      "source": [
        "# Coletando dados"
      ],
      "metadata": {
        "id": "gVXI_43cz_Fm"
      }
    },
    {
      "cell_type": "code",
      "source": [
        "import pandas as pd\n",
        "import numpy as np\n",
        "import requests\n",
        "from io import BytesIO, StringIO"
      ],
      "metadata": {
        "id": "aPwtxDdEmqPS"
      },
      "execution_count": 1,
      "outputs": []
    },
    {
      "cell_type": "code",
      "source": [
        "payload = {'modalidade': 'Lotofácil'}\n",
        "headers = {\n",
        "'Accept': '*/*',\n",
        "'Accept-Encoding': 'gzip, deflate, br',\n",
        "'Accept-Language': 'en,pt-BR;q=0.9,pt;q=0.8,en-GB;q=0.7,en-US;q=0.6',\n",
        "#'Connection': 'keep-alive',\n",
        "'Host': 'servicebus2.caixa.gov.br',\n",
        "'Origin': 'https://loterias.caixa.gov.br',\n",
        "'Referer': 'https://loterias.caixa.gov.br/'}\n",
        "\n",
        "#'https://servicebus2.caixa.gov.br/portaldeloterias/api/resultados/download?modalidade=Lotof%C3%A1cil'\n",
        "r = requests.get('https://servicebus2.caixa.gov.br/portaldeloterias/api/resultados/download?modalidade=Lotof%C3%A1cil', data=payload, headers=headers, verify=False)"
      ],
      "metadata": {
        "colab": {
          "base_uri": "https://localhost:8080/"
        },
        "id": "GNcACBFumuMG",
        "outputId": "8a9ca06d-bcf7-4ca9-b195-f6f52a596dcc"
      },
      "execution_count": 2,
      "outputs": [
        {
          "output_type": "stream",
          "name": "stderr",
          "text": [
            "/usr/local/lib/python3.11/dist-packages/urllib3/connectionpool.py:1097: InsecureRequestWarning: Unverified HTTPS request is being made to host 'servicebus2.caixa.gov.br'. Adding certificate verification is strongly advised. See: https://urllib3.readthedocs.io/en/latest/advanced-usage.html#tls-warnings\n",
            "  warnings.warn(\n"
          ]
        }
      ]
    },
    {
      "cell_type": "code",
      "source": [
        "pdDF = pd.read_excel(BytesIO(r.content))"
      ],
      "metadata": {
        "id": "8-yOGMiLmu4S"
      },
      "execution_count": 3,
      "outputs": []
    },
    {
      "cell_type": "markdown",
      "source": [
        "# Preparando ambiente para PySpark"
      ],
      "metadata": {
        "id": "lweR8KexAd8p"
      }
    },
    {
      "cell_type": "markdown",
      "source": [
        "#### Dependências para Python 3.10"
      ],
      "metadata": {
        "id": "vQh272zRA2Q2"
      }
    },
    {
      "cell_type": "code",
      "execution_count": 4,
      "metadata": {
        "id": "Gnh9h7R01pl0"
      },
      "outputs": [],
      "source": [
        "# instalar as dependências\n",
        "!apt-get install openjdk-8-jdk-headless -qq > /dev/null\n",
        "!wget -q https://archive.apache.org/dist/spark/spark-3.4.0/spark-3.4.0-bin-hadoop3.tgz\n",
        "!tar xf spark-3.4.0-bin-hadoop3.tgz\n",
        "!pip install -q findspark"
      ]
    },
    {
      "cell_type": "markdown",
      "source": [
        "#### Configuração das Variáveis de Ambiente"
      ],
      "metadata": {
        "id": "PqZqZAKQA8jR"
      }
    },
    {
      "cell_type": "code",
      "source": [
        "# configurar as variáveis de ambiente\n",
        "import os\n",
        "os.environ[\"JAVA_HOME\"] = \"/usr/lib/jvm/java-8-openjdk-amd64\"\n",
        "os.environ[\"SPARK_HOME\"] = \"/content/spark-2.4.4-bin-hadoop2.7\""
      ],
      "metadata": {
        "id": "YFDKyVhD15h4"
      },
      "execution_count": 5,
      "outputs": []
    },
    {
      "cell_type": "markdown",
      "source": [
        "#### Tornar PySpark Importável"
      ],
      "metadata": {
        "id": "aXbt-dX5BBvk"
      }
    },
    {
      "cell_type": "code",
      "source": [
        "# tornar o pyspark \"importável\"\n",
        "import findspark\n",
        "findspark.init('spark-3.4.0-bin-hadoop3')"
      ],
      "metadata": {
        "id": "OVpfT2Fv8pZT"
      },
      "execution_count": 6,
      "outputs": []
    },
    {
      "cell_type": "markdown",
      "source": [
        "## Iniciando Ambiente"
      ],
      "metadata": {
        "id": "gGNgfFFcAjQk"
      }
    },
    {
      "cell_type": "code",
      "source": [
        "# iniciar uma sessão local e importar dados do Airbnb\n",
        "from pyspark.sql import SparkSession\n",
        "sc = SparkSession.builder.master('local[*]').getOrCreate()"
      ],
      "metadata": {
        "id": "M3Y7J0Sm8wd1"
      },
      "execution_count": 7,
      "outputs": []
    },
    {
      "cell_type": "markdown",
      "source": [
        "## Carregando Pandas DF para PySpark DataFrame"
      ],
      "metadata": {
        "id": "rLQUsgrD8Bj4"
      }
    },
    {
      "cell_type": "code",
      "source": [
        "from pyspark.sql.functions import col\n",
        "from pyspark.sql.functions import cast"
      ],
      "metadata": {
        "id": "LqRNzZuVnFZa"
      },
      "execution_count": 8,
      "outputs": []
    },
    {
      "cell_type": "code",
      "source": [
        "#df = df.withColumn('data', col('data').cast('string'))"
      ],
      "metadata": {
        "id": "wjItlq7UnIiU"
      },
      "execution_count": 9,
      "outputs": []
    },
    {
      "cell_type": "code",
      "source": [
        "df = sc.createDataFrame(pdDF)"
      ],
      "metadata": {
        "id": "zSQzaTa38F7G"
      },
      "execution_count": 10,
      "outputs": []
    },
    {
      "cell_type": "code",
      "source": [
        "df.show(3)"
      ],
      "metadata": {
        "colab": {
          "base_uri": "https://localhost:8080/"
        },
        "id": "nqkjK4kS9uPj",
        "outputId": "d475dec6-2984-40fb-cdbb-b2eea452f940"
      },
      "execution_count": 11,
      "outputs": [
        {
          "output_type": "stream",
          "name": "stdout",
          "text": [
            "+--------+------------+-----+-----+-----+-----+-----+-----+-----+-----+-----+------+------+------+------+------+------+---------------------+-----------+-----------------+---------------------+-----------------+---------------------+-----------------+---------------------+-----------------+---------------------+-----------------+--------------------+-----------------+-----------------+-----------------------------------------------------+--------------------+\n",
            "|Concurso|Data Sorteio|Bola1|Bola2|Bola3|Bola4|Bola5|Bola6|Bola7|Bola8|Bola9|Bola10|Bola11|Bola12|Bola13|Bola14|Bola15|Ganhadores 15 acertos|Cidade / UF|Rateio 15 acertos|Ganhadores 14 acertos|Rateio 14 acertos|Ganhadores 13 acertos|Rateio 13 acertos|Ganhadores 12 acertos|Rateio 12 acertos|Ganhadores 11 acertos|Rateio 11 acertos|Acumulado 15 acertos|Arrecadacao Total|Estimativa Prêmio|Acumulado sorteio especial Lotofácil da Independência|          Observação|\n",
            "+--------+------------+-----+-----+-----+-----+-----+-----+-----+-----+-----+------+------+------+------+------+------+---------------------+-----------+-----------------+---------------------+-----------------+---------------------+-----------------+---------------------+-----------------+---------------------+-----------------+--------------------+-----------------+-----------------+-----------------------------------------------------+--------------------+\n",
            "|       1|  29/09/2003|    2|    3|    5|    6|    9|   10|   11|   13|   14|    16|    18|    20|    23|    24|    25|                    5| BA; PR; SP|      R$49.765,82|                  154|         R$689,84|                 4645|          R$10,00|                48807|           R$4,00|               257593|           R$2,00|              R$0,00|           R$0,00|           R$0,00|                                               R$0,00|Estimativa de prê...|\n",
            "|       2|  06/10/2003|    1|    4|    5|    6|    7|    9|   11|   12|   13|    15|    16|    19|    20|    23|    24|                    1|         SP|     R$596.323,70|                  184|       R$1.388,95|                 6232|          R$10,00|                81252|           R$4,00|               478188|           R$2,00|              R$0,00|           R$0,00|           R$0,00|                                               R$0,00|ESTIMATIVA DE PRÊ...|\n",
            "|       3|  13/10/2003|    1|    4|    6|    7|    8|    9|   10|   11|   12|    14|    16|    17|    20|    23|    24|                    2|         SP|     R$400.623,70|                  158|       R$2.173,36|                 6897|          R$10,00|                96244|           R$4,00|               608211|           R$2,00|              R$0,00|           R$0,00|           R$0,00|                                               R$0,00|Estimativa de prê...|\n",
            "+--------+------------+-----+-----+-----+-----+-----+-----+-----+-----+-----+------+------+------+------+------+------+---------------------+-----------+-----------------+---------------------+-----------------+---------------------+-----------------+---------------------+-----------------+---------------------+-----------------+--------------------+-----------------+-----------------+-----------------------------------------------------+--------------------+\n",
            "only showing top 3 rows\n",
            "\n"
          ]
        }
      ]
    },
    {
      "cell_type": "code",
      "source": [
        "df.printSchema()"
      ],
      "metadata": {
        "colab": {
          "base_uri": "https://localhost:8080/"
        },
        "id": "mnfn3YasnyhD",
        "outputId": "c5e539c0-34dc-4f68-cfc0-35eea7b6fd9f"
      },
      "execution_count": 12,
      "outputs": [
        {
          "output_type": "stream",
          "name": "stdout",
          "text": [
            "root\n",
            " |-- Concurso: long (nullable = true)\n",
            " |-- Data Sorteio: string (nullable = true)\n",
            " |-- Bola1: long (nullable = true)\n",
            " |-- Bola2: long (nullable = true)\n",
            " |-- Bola3: long (nullable = true)\n",
            " |-- Bola4: long (nullable = true)\n",
            " |-- Bola5: long (nullable = true)\n",
            " |-- Bola6: long (nullable = true)\n",
            " |-- Bola7: long (nullable = true)\n",
            " |-- Bola8: long (nullable = true)\n",
            " |-- Bola9: long (nullable = true)\n",
            " |-- Bola10: long (nullable = true)\n",
            " |-- Bola11: long (nullable = true)\n",
            " |-- Bola12: long (nullable = true)\n",
            " |-- Bola13: long (nullable = true)\n",
            " |-- Bola14: long (nullable = true)\n",
            " |-- Bola15: long (nullable = true)\n",
            " |-- Ganhadores 15 acertos: long (nullable = true)\n",
            " |-- Cidade / UF: string (nullable = true)\n",
            " |-- Rateio 15 acertos: string (nullable = true)\n",
            " |-- Ganhadores 14 acertos: long (nullable = true)\n",
            " |-- Rateio 14 acertos: string (nullable = true)\n",
            " |-- Ganhadores 13 acertos: long (nullable = true)\n",
            " |-- Rateio 13 acertos: string (nullable = true)\n",
            " |-- Ganhadores 12 acertos: long (nullable = true)\n",
            " |-- Rateio 12 acertos: string (nullable = true)\n",
            " |-- Ganhadores 11 acertos: long (nullable = true)\n",
            " |-- Rateio 11 acertos: string (nullable = true)\n",
            " |-- Acumulado 15 acertos: string (nullable = true)\n",
            " |-- Arrecadacao Total: string (nullable = true)\n",
            " |-- Estimativa Prêmio: string (nullable = true)\n",
            " |-- Acumulado sorteio especial Lotofácil da Independência: string (nullable = true)\n",
            " |-- Observação: string (nullable = true)\n",
            "\n"
          ]
        }
      ]
    },
    {
      "cell_type": "code",
      "source": [
        "import sys\n",
        "import pickle\n",
        "def estimate_dataframe_size(df, sample_fraction=0.01):\n",
        "    sample_df = df.sample(fraction=sample_fraction, seed=42) #.limit(1000)\n",
        "    local_data = sample_df.toPandas()\n",
        "    sample_size_bytes = sys.getsizeof(pickle.dumps(local_data))\n",
        "    estimated_total_size = (sample_size_bytes / sample_fraction)\n",
        "    return estimated_total_size\n",
        "\n",
        "def calculate_optimal_partitions(estimated_size_bytes, target_file_size_mb=256 #128 ou 256 MB):\n",
        "    target_file_size_bytes = target_file_size_mb * 1024 * 1024\n",
        "    num_partitions = int(estimated_size_bytes / target_file_size_bytes)\n",
        "    return max(num_partitions, 1)"
      ],
      "metadata": {
        "id": "plQ4Avyknz0M"
      },
      "execution_count": 22,
      "outputs": []
    },
    {
      "cell_type": "code",
      "source": [
        "estimated_size = estimate_dataframe_size(df)\n",
        "optimal_partitions = calculate_optimal_partitions(estimated_size)\n",
        "\n",
        "print(f\"Estimated size: {estimated_size / (1024**2):.2f} MB\")\n",
        "print(f\"Optimal partitions: {optimal_partitions}\")"
      ],
      "metadata": {
        "colab": {
          "base_uri": "https://localhost:8080/"
        },
        "id": "Qli39cETHRK4",
        "outputId": "b014ed96-a95f-447b-e634-ce8ea601c6ca"
      },
      "execution_count": 23,
      "outputs": [
        {
          "output_type": "stream",
          "name": "stdout",
          "text": [
            "Estimated size: 1.38 MB\n",
            "Optimal partitions: 1\n"
          ]
        }
      ]
    },
    {
      "cell_type": "code",
      "source": [
        "local = sys.getsizeof(pickle.dumps(df.toPandas()))\n",
        "local/( 1024**2 )"
      ],
      "metadata": {
        "colab": {
          "base_uri": "https://localhost:8080/"
        },
        "id": "86BBoYQQHW0B",
        "outputId": "14ff9fbf-2cbd-4dbd-9790-fd395f1d025b"
      },
      "execution_count": 27,
      "outputs": [
        {
          "output_type": "execute_result",
          "data": {
            "text/plain": [
              "1.1788978576660156"
            ]
          },
          "metadata": {},
          "execution_count": 27
        }
      ]
    },
    {
      "cell_type": "code",
      "source": [],
      "metadata": {
        "id": "PIVbVSF3JAzC"
      },
      "execution_count": null,
      "outputs": []
    }
  ]
}